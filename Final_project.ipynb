{
 "cells": [
  {
   "cell_type": "markdown",
   "metadata": {},
   "source": [
    "Финальный Проект\n",
    "---"
   ]
  },
  {
   "cell_type": "markdown",
   "metadata": {},
   "source": [
    "Пожалуйста, создайте пакет **education**, который содержит следующие модули:\n",
    "\n",
    "1. users\n",
    "2. organizations\n",
    "\n",
    "Когда вы запускаете пакет напрямую, он должен показывать все модули, указанные в пакете."
   ]
  },
  {
   "cell_type": "markdown",
   "metadata": {},
   "source": [
    "## Описание модулей приведено ниже:"
   ]
  },
  {
   "cell_type": "markdown",
   "metadata": {},
   "source": [
    "### Модуль **users** должен содержать классы **Human, Student(Human), Teacher(Human)**.\n",
    "\n",
    "1. Класс **Human** должен содержать следующую информацию: имя, фамилию, возраст, пол, национальность, а также способы задания этой информации.\n",
    " \n",
    ">``` \n",
    "> h1 = Human(name=\"John\", familyname=\"Wick\", age=35, gender=\"male\", nationality=\"USA\")\n",
    "> ``` \n",
    "\n",
    "Список методов:\n",
    "> ```\n",
    "set_name()\n",
    "set_family()\n",
    "set_age()\n",
    "set_gender()\n",
    "set_nationality()\n",
    "get_info() # возвращает словарь с личной информацией об объекте\n",
    "> ```\n",
    "\n",
    "2. Класс **Student** - это детский класс класса Human. Он должен содержать следующую информацию о каждом студенте: имя, фамилия, возраст, пол, национальность, название школы или университета, список предметов и соответствующие методы для установки этой информации.\n",
    "\n",
    "\n",
    "Список методов в дополнение к списку методов из родительского класса Human:\n",
    "> ```\n",
    "set_school()\n",
    "add_subject() # добавить предмет в список предметов\n",
    "> ```\n",
    "\n",
    "\n",
    "3. Класс **Teacher** - это детский класс класса Human. Он должен содержать следующую информацию о каждом преподавателе: имя, фамилия, возраст, пол, национальность, название школы или университета, предмет преподавания и соответствующие методы для установки этой информации.\n",
    "\n",
    "Список методов в дополнение к списку методов из родительского класса Human:\n",
    "> ```\n",
    "set_school()\n",
    "add_subject() # добавить предмет преподаваемый учителем\n",
    "> ```\n",
    "\n",
    "* При непосредственном запуске модуля **users** напрямую должен отображаться список классов, а также списки методов соответствующих классов, приведенных в модуле.\n",
    "\n",
    "* Когда вы импортируете модуль, он должен показать, что модуль был успешно импортирован.\n",
    "\n",
    "---"
   ]
  },
  {
   "cell_type": "markdown",
   "metadata": {},
   "source": [
    "### Модуль **organizations** должен содержать класс **School**.\n",
    "\n",
    "Класс **School** должен содержать следующую информацию: название или номер школы, адрес школы, номер телефона школы, электронный адрес учебного заведения, количество учеников, количество учителей, а также способы задания этой информации.\n",
    " \n",
    " \n",
    ">``` \n",
    "> s1 = School(name=\"NIS\", address=\"Astana, Kazakhstan\", phone=\"999999\", num_stud=1000, num_teachers=50)\n",
    "> ``` \n",
    "\n",
    "Список методов:\n",
    "> ```\n",
    "set_name()\n",
    "set_address()\n",
    "set_phone()\n",
    "set_email()\n",
    "set_num_stud()\n",
    "set_num_teachers()\n",
    "add_student()\n",
    "add_teacher()\n",
    "get_info() # возвращает словарь с информацией про школу без личной информации студентов / преподавателей\n",
    "get_report() # создает отчет (файл \"csv\") с информацией о школе и о каждом ученике, а также о преподавателе в этой школе. \n",
    "> ```\n",
    "\n",
    "**Пожалуйста, сделайте правильный формат файла CSV (который вы считаете наиболее понятным)**\n",
    "\n",
    "* При непосредственном запуске модуля **organizations** напрямую должен отображаться список классов, а также списки методов соответствующих классов, приведенных в модуле.\n",
    "\n",
    "* Когда вы импортируете модуль, он должен показать, что модуль был успешно импортирован.\n",
    "\n",
    "---"
   ]
  },
  {
   "cell_type": "markdown",
   "metadata": {},
   "source": [
    "### Что делать в jupyter notebook?\n",
    "\n",
    "В этом jupyter notebook, пожалуйста, проверьте все функциональные возможности вашего пакета. Как минимум создайте 2-3 школы, в каждой школе должно быть не менее 10 учеников (с разной информацией), а также как минимум 2 учителя разных предметов и личной информации. **Личная информация этих учеников, учителей и школ не должна быть правдивой (просто выдумайте).**\n",
    "\n",
    "**Пожалуйста, заархивируйте пакет и данный jupyter notebook вместе и отправьте архивный файл.**"
   ]
  },
  {
   "cell_type": "code",
   "execution_count": 19,
   "metadata": {},
   "outputs": [],
   "source": [
    "# Ваш код:\n",
    "from education import *"
   ]
  },
  {
   "cell_type": "code",
   "execution_count": 20,
   "outputs": [],
   "source": [
    "sch1 = organizations.School(\"Gryffindor\", \"London, UK\", \"9745123\", \"gryffindor@gmail.com\")"
   ],
   "metadata": {
    "collapsed": false
   }
  },
  {
   "cell_type": "code",
   "execution_count": 21,
   "outputs": [
    {
     "data": {
      "text/plain": "{'school_name': 'Gryffindor',\n 'address': 'London, UK',\n 'phone': '9745123',\n 'email': 'gryffindor@gmail.com',\n 'num_stud': 0,\n 'num_teachers': 0}"
     },
     "execution_count": 21,
     "metadata": {},
     "output_type": "execute_result"
    }
   ],
   "source": [
    "sch1.get_info()"
   ],
   "metadata": {
    "collapsed": false
   }
  },
  {
   "cell_type": "code",
   "execution_count": 22,
   "outputs": [],
   "source": [
    "s1 = users.Student(497130, \"Harry\", \"Potter\", 14, \"male\", \"Wizard\", \"Gryffindor\", \"Math\")\n",
    "s2 = users.Student(796855, \"Ronald\", \"Weasley\", 14, \"male\", \"Wizard\", \"Gryffindor\", \"English\")\n",
    "s3 = users.Student(380754, \"Neville\", \"Longbottom\", 14, \"male\", \"Wizard\", \"Gryffindor\", [\"English\", \"Pysics\"])\n",
    "s4 = users.Student(353310, \"Dean\", \"Thomas\", 14, \"male\", \"Wizard\", \"Gryffindor\", \"Kazakh\")\n",
    "s5 = users.Student(885536, \"Seamus\", \"Finnigan\", 14, \"male\", \"Wizard\", \"Gryffindor\", \"Russian\")\n",
    "s6 = users.Student(583523, \"Hermione\", \"Granger\", 14, \"female\", \"Muggle\", \"Gryffindor\", [\"English\", \"Russian\"])\n",
    "s7 = users.Student(740895, \"Lavender\", \"Brown\", 14, \"female\", \"Wizard\", \"Gryffindor\", \"Math\")\n",
    "s8 = users.Student(349996, \"Parvati\", \"Patil\", 14, \"female\", \"Wizard\", \"Gryffindor\", \"Pysics\")\n",
    "s9 = users.Student(624665, \"Cormac\", \"McLaggen\", 14, \"male\", \"Wizard\", \"Gryffindor\", \"Geography\")"
   ],
   "metadata": {
    "collapsed": false
   }
  },
  {
   "cell_type": "code",
   "execution_count": 23,
   "outputs": [],
   "source": [
    "s1.add_subject(\"History of Magic\", \"Poison\")\n",
    "s2.add_subject(\"History of Magic\", \"Astronomy\")\n",
    "s3.add_subject(\"History of Magic\", \"Poison\")\n",
    "s4.add_subject(\"History of Magic\", \"Transfiguration\")\n",
    "s5.add_subject(\"History of Magic\", \"Herbology\")\n",
    "s6.add_subject(\"History of Magic\", \"Poison\")\n",
    "s7.add_subject(\"History of Magic\", \"Charms\")\n",
    "s8.add_subject(\"History of Magic\", \"Dark Arts\")\n",
    "s9.add_subject(\"History of Magic\", \"Defence Against the Dark Arts\")"
   ],
   "metadata": {
    "collapsed": false
   }
  },
  {
   "cell_type": "code",
   "execution_count": 24,
   "outputs": [],
   "source": [
    "sch1.add_student(s1)\n",
    "sch1.add_student(s2)\n",
    "sch1.add_student(s3)\n",
    "sch1.add_student(s4)\n",
    "sch1.add_student(s5)\n",
    "sch1.add_student(s6)\n",
    "sch1.add_student(s7)\n",
    "sch1.add_student(s8)\n",
    "sch1.add_student(s9)"
   ],
   "metadata": {
    "collapsed": false
   }
  },
  {
   "cell_type": "code",
   "execution_count": 25,
   "outputs": [
    {
     "data": {
      "text/plain": "{'name': 'Cormac',\n 'familyname': 'McLaggen',\n 'age': 14,\n 'gender': 'male',\n 'nationality': 'Wizard',\n 'id': 624665,\n 'school': 'Gryffindor',\n 'subjects': {'Defence Against the Dark Arts',\n  'Geography',\n  'History of Magic'}}"
     },
     "execution_count": 25,
     "metadata": {},
     "output_type": "execute_result"
    }
   ],
   "source": [
    "s9.get_info()"
   ],
   "metadata": {
    "collapsed": false
   }
  },
  {
   "cell_type": "code",
   "execution_count": 26,
   "outputs": [
    {
     "data": {
      "text/plain": "{'school_name': 'Gryffindor',\n 'address': 'London, UK',\n 'phone': '9745123',\n 'email': 'gryffindor@gmail.com',\n 'num_stud': 9,\n 'num_teachers': 0}"
     },
     "execution_count": 26,
     "metadata": {},
     "output_type": "execute_result"
    }
   ],
   "source": [
    "sch1.get_info()"
   ],
   "metadata": {
    "collapsed": false
   }
  },
  {
   "cell_type": "code",
   "execution_count": 27,
   "outputs": [],
   "source": [
    "t1 = users.Teacher(159259, \"Gilderoy\", \"Lockhart\", 31, \"male\", \"Wizard\", \"Gryffindor\", \"English\")\n",
    "t2 = users.Teacher(741677, \"Filius\", \"Flitwick\", 50, \"male\", \"Wizard\", \"Gryffindor\", \"Math\")"
   ],
   "metadata": {
    "collapsed": false
   }
  },
  {
   "cell_type": "code",
   "execution_count": 28,
   "outputs": [],
   "source": [
    "t1.add_subject(\"History of Magic\")\n",
    "t2.add_subject(\"Poison\")"
   ],
   "metadata": {
    "collapsed": false
   }
  },
  {
   "cell_type": "code",
   "execution_count": 29,
   "outputs": [],
   "source": [
    "sch1.add_teacher(t1)\n",
    "sch1.add_teacher(t2)"
   ],
   "metadata": {
    "collapsed": false
   }
  },
  {
   "cell_type": "code",
   "execution_count": 30,
   "outputs": [
    {
     "data": {
      "text/plain": "{'school_name': 'Gryffindor',\n 'address': 'London, UK',\n 'phone': '9745123',\n 'email': 'gryffindor@gmail.com',\n 'num_stud': 9,\n 'num_teachers': 2}"
     },
     "execution_count": 30,
     "metadata": {},
     "output_type": "execute_result"
    }
   ],
   "source": [
    "sch1.get_info()"
   ],
   "metadata": {
    "collapsed": false
   }
  },
  {
   "cell_type": "code",
   "execution_count": 31,
   "outputs": [],
   "source": [
    "s10 = users.Student(497130, \"Harry\", \"Potter\", 14, \"male\", \"Wizard\", \"Gryffindor\", \"Math\") # should not be added\n",
    "s11 = users.Student(595101, \"Harry\", \"Damon\", 14, \"male\", \"Wizard\", \"Gryffindor\", \"Geography\") # should be added"
   ],
   "metadata": {
    "collapsed": false
   }
  },
  {
   "cell_type": "code",
   "execution_count": 32,
   "outputs": [],
   "source": [
    "s10.add_subject(\"History of Magic\", \"Poison\")\n",
    "s11.add_subject(\"History of Magic\", \"Astronomy\")"
   ],
   "metadata": {
    "collapsed": false
   }
  },
  {
   "cell_type": "code",
   "execution_count": 33,
   "outputs": [],
   "source": [
    "sch1.add_student(s10)\n",
    "sch1.add_student(s11)"
   ],
   "metadata": {
    "collapsed": false
   }
  },
  {
   "cell_type": "code",
   "execution_count": 34,
   "outputs": [
    {
     "data": {
      "text/plain": "{'school_name': 'Gryffindor',\n 'address': 'London, UK',\n 'phone': '9745123',\n 'email': 'gryffindor@gmail.com',\n 'num_stud': 10,\n 'num_teachers': 2}"
     },
     "execution_count": 34,
     "metadata": {},
     "output_type": "execute_result"
    }
   ],
   "source": [
    "sch1.get_info()"
   ],
   "metadata": {
    "collapsed": false
   }
  },
  {
   "cell_type": "code",
   "execution_count": 35,
   "outputs": [],
   "source": [
    "t3 = users.Teacher(159259, \"Gilderoy\", \"Lockhart\", 31, \"male\", \"Wizard\", \"Gryffindor\", \"Biology\") # should not be added\n",
    "t4 = users.Teacher(254464, \"John\", \"Lockhart\", 31, \"male\", \"Wizard\", \"Gryffindor\", \"Chemistry\") # should be added"
   ],
   "metadata": {
    "collapsed": false
   }
  },
  {
   "cell_type": "code",
   "execution_count": 36,
   "outputs": [],
   "source": [
    "sch1.add_teacher(t3)\n",
    "sch1.add_teacher(t4)"
   ],
   "metadata": {
    "collapsed": false
   }
  },
  {
   "cell_type": "code",
   "execution_count": 37,
   "outputs": [
    {
     "data": {
      "text/plain": "{'school_name': 'Gryffindor',\n 'address': 'London, UK',\n 'phone': '9745123',\n 'email': 'gryffindor@gmail.com',\n 'num_stud': 10,\n 'num_teachers': 3}"
     },
     "execution_count": 37,
     "metadata": {},
     "output_type": "execute_result"
    }
   ],
   "source": [
    "sch1.get_info()"
   ],
   "metadata": {
    "collapsed": false
   }
  },
  {
   "cell_type": "code",
   "execution_count": 38,
   "outputs": [
    {
     "name": "stdout",
     "output_type": "stream",
     "text": [
      "Report was successfully created\n"
     ]
    }
   ],
   "source": [
    "sch1.get_report()"
   ],
   "metadata": {
    "collapsed": false
   }
  },
  {
   "cell_type": "code",
   "execution_count": 39,
   "outputs": [],
   "source": [
    "sch2 = organizations.School(\"Gryffindor\", \"London, UK\", \"9745123\", \"gryffindor@gmail.com\")"
   ],
   "metadata": {
    "collapsed": false
   }
  },
  {
   "cell_type": "code",
   "execution_count": 40,
   "outputs": [
    {
     "data": {
      "text/plain": "{'school_name': 'Gryffindor',\n 'address': 'London, UK',\n 'phone': '9745123',\n 'email': 'gryffindor@gmail.com',\n 'num_stud': 0,\n 'num_teachers': 0}"
     },
     "execution_count": 40,
     "metadata": {},
     "output_type": "execute_result"
    }
   ],
   "source": [
    "sch2.get_info()"
   ],
   "metadata": {
    "collapsed": false
   }
  },
  {
   "cell_type": "code",
   "execution_count": 41,
   "outputs": [],
   "source": [
    "st1 = users.Student(23678, \"Ernie\", \"Macmillan\", 14, \"male\", \"Wizard\", \"Hufflepuff\", \"Math\")\n",
    "st2 = users.Student(70462, \"Justin\", \"Finch-Fletchley\", 14, \"male\", \"Wizard\", \"Hufflepuff\", \"Math\")\n",
    "st3 = users.Student(10063, \"Hannah\", \"Abbott\", 14, \"female\", \"Wizard\", \"Hufflepuff\", \"Math\")\n",
    "st4 = users.Student(45607, \"Susan\", \"Bones\", 14, \"female\", \"Wizard\", \"Hufflepuff\", \"Math\")\n",
    "st5 = users.Student(16587, \"Bridget\", \"Wenlock\", 14, \"female\", \"Wizard\", \"Hufflepuff\", \"Math\")\n",
    "st6 = users.Student(71226, \"Cedric\", \"Diggory\", 14, \"male\", \"Muggle\", \"Hufflepuff\", \"Math\")\n",
    "st7 = users.Student(24146, \"Fat\", \"Friar\", 14, \"male\", \"Wizard\", \"Hufflepuff\", \"Math\")\n",
    "st8 = users.Student(78435, \"Newton\", \"Scamander\", 14, \"male\", \"Wizard\", \"Hufflepuff\", \"Math\")\n",
    "st9 = users.Student(85181, \"Pomona\", \"Sprout\", 14, \"male\", \"Wizard\", \"Hufflepuff\", \"Math\")"
   ],
   "metadata": {
    "collapsed": false
   }
  },
  {
   "cell_type": "code",
   "execution_count": 42,
   "outputs": [],
   "source": [
    "st1.add_subject(\"History of Magic\", \"Poison\")\n",
    "st2.add_subject(\"History of Magic\", \"Astronomy\")\n",
    "st3.add_subject(\"History of Magic\", \"Poison\")\n",
    "st4.add_subject(\"History of Magic\", \"Transfiguration\")\n",
    "st5.add_subject(\"History of Magic\", \"Herbology\")\n",
    "st6.add_subject(\"History of Magic\", \"Poison\")\n",
    "st7.add_subject(\"History of Magic\", \"Charms\")\n",
    "st8.add_subject(\"History of Magic\", \"Dark Arts\")\n",
    "st9.add_subject(\"History of Magic\", \"Defence Against the Dark Arts\")"
   ],
   "metadata": {
    "collapsed": false
   }
  },
  {
   "cell_type": "code",
   "execution_count": 43,
   "outputs": [],
   "source": [
    "sch2.add_student(st1)\n",
    "sch2.add_student(st2)\n",
    "sch2.add_student(st3)\n",
    "sch2.add_student(st4)\n",
    "sch2.add_student(st5)\n",
    "sch2.add_student(st6)\n",
    "sch2.add_student(st7)\n",
    "sch2.add_student(st8)\n",
    "sch2.add_student(st9)"
   ],
   "metadata": {
    "collapsed": false
   }
  },
  {
   "cell_type": "code",
   "execution_count": 44,
   "outputs": [
    {
     "data": {
      "text/plain": "{'school_name': 'Gryffindor',\n 'address': 'London, UK',\n 'phone': '9745123',\n 'email': 'gryffindor@gmail.com',\n 'num_stud': 9,\n 'num_teachers': 0}"
     },
     "execution_count": 44,
     "metadata": {},
     "output_type": "execute_result"
    }
   ],
   "source": [
    "sch2.get_info()"
   ],
   "metadata": {
    "collapsed": false
   }
  },
  {
   "cell_type": "code",
   "execution_count": 45,
   "outputs": [],
   "source": [
    "tt1 = users.Teacher(49377, \"Poppy\", \"Pomphey\", 58, \"female\", \"Wizard\", \"Hufflepuff\", \"Math\")\n",
    "tt2 = users.Teacher(51957, \"Sybill\", \"Trelawney\", 47, \"female\", \"Wizard\", \"Hufflepuff\", \"Biology\")"
   ],
   "metadata": {
    "collapsed": false
   }
  },
  {
   "cell_type": "code",
   "execution_count": 46,
   "outputs": [],
   "source": [
    "tt1.add_subject(\"Herbology\")\n",
    "tt2.add_subject(\"Charms\")"
   ],
   "metadata": {
    "collapsed": false
   }
  },
  {
   "cell_type": "code",
   "execution_count": 47,
   "outputs": [],
   "source": [
    "sch2.add_teacher(tt1)\n",
    "sch2.add_teacher(tt2)"
   ],
   "metadata": {
    "collapsed": false
   }
  },
  {
   "cell_type": "code",
   "execution_count": 48,
   "outputs": [
    {
     "data": {
      "text/plain": "{'school_name': 'Gryffindor',\n 'address': 'London, UK',\n 'phone': '9745123',\n 'email': 'gryffindor@gmail.com',\n 'num_stud': 9,\n 'num_teachers': 2}"
     },
     "execution_count": 48,
     "metadata": {},
     "output_type": "execute_result"
    }
   ],
   "source": [
    "sch2.get_info()"
   ],
   "metadata": {
    "collapsed": false
   }
  },
  {
   "cell_type": "code",
   "execution_count": 49,
   "outputs": [],
   "source": [
    "st10 = users.Student(23678, \"Ernie\", \"Macmillan\", 14, \"male\", \"Wizard\", \"Hufflepuff\", \"Math\") # should not be added\n",
    "st11 = users.Student(35738, \"Ernie\", \"Rodriguez\", 14, \"male\", \"Wizard\", \"Hufflepuff\", \"Math\") # should be added"
   ],
   "metadata": {
    "collapsed": false
   }
  },
  {
   "cell_type": "code",
   "execution_count": 50,
   "outputs": [],
   "source": [
    "tt3 = users.Teacher(49377, \"Poppy\", \"Pomphey\", 58, \"female\", \"Wizard\", \"Hufflepuff\", \"Chemistry\") # should not be added\n",
    "tt4 = users.Teacher(53712, \"Penelopa\", \"Pomphey\", 58, \"female\", \"Wizard\", \"Hufflepuff\", \"Biology\")"
   ],
   "metadata": {
    "collapsed": false
   }
  },
  {
   "cell_type": "code",
   "execution_count": 51,
   "outputs": [],
   "source": [
    "sch2.add_student(st10)\n",
    "sch2.add_student(st11)\n",
    "sch2.add_teacher(tt3)\n",
    "sch2.add_teacher(tt4)"
   ],
   "metadata": {
    "collapsed": false
   }
  },
  {
   "cell_type": "code",
   "execution_count": 52,
   "outputs": [
    {
     "data": {
      "text/plain": "{'school_name': 'Gryffindor',\n 'address': 'London, UK',\n 'phone': '9745123',\n 'email': 'gryffindor@gmail.com',\n 'num_stud': 10,\n 'num_teachers': 3}"
     },
     "execution_count": 52,
     "metadata": {},
     "output_type": "execute_result"
    }
   ],
   "source": [
    "sch2.get_info()"
   ],
   "metadata": {
    "collapsed": false
   }
  },
  {
   "cell_type": "code",
   "execution_count": 53,
   "outputs": [
    {
     "name": "stdout",
     "output_type": "stream",
     "text": [
      "Report was successfully created\n"
     ]
    }
   ],
   "source": [
    "sch2.get_report()"
   ],
   "metadata": {
    "collapsed": false
   }
  }
 ],
 "metadata": {
  "kernelspec": {
   "display_name": "Python 3",
   "language": "python",
   "name": "python3"
  },
  "language_info": {
   "codemirror_mode": {
    "name": "ipython",
    "version": 3
   },
   "file_extension": ".py",
   "mimetype": "text/x-python",
   "name": "python",
   "nbconvert_exporter": "python",
   "pygments_lexer": "ipython3",
   "version": "3.6.5"
  }
 },
 "nbformat": 4,
 "nbformat_minor": 2
}
